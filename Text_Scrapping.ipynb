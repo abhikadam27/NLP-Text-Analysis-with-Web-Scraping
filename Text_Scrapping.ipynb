{
  "cells": [
    {
      "cell_type": "code",
      "execution_count": null,
      "id": "a1dd6d75",
      "metadata": {
        "id": "a1dd6d75"
      },
      "outputs": [],
      "source": [
        "#Import necessory libraries\n",
        "import selenium\n",
        "import pandas as pd\n",
        "import time\n",
        "import  requests\n",
        "from selenium import webdriver\n",
        "from selenium.common.exceptions import NoSuchElementException\n",
        "import re\n",
        "\n",
        "import warnings\n",
        "warnings.filterwarnings('ignore')\n",
        "%matplotlib inline"
      ]
    },
    {
      "cell_type": "code",
      "execution_count": null,
      "id": "1839a045",
      "metadata": {
        "id": "1839a045",
        "outputId": "7e16cb31-4549-478a-ba91-3fa38794ea6f"
      },
      "outputs": [
        {
          "data": {
            "text/html": [
              "<div>\n",
              "<style scoped>\n",
              "    .dataframe tbody tr th:only-of-type {\n",
              "        vertical-align: middle;\n",
              "    }\n",
              "\n",
              "    .dataframe tbody tr th {\n",
              "        vertical-align: top;\n",
              "    }\n",
              "\n",
              "    .dataframe thead th {\n",
              "        text-align: right;\n",
              "    }\n",
              "</style>\n",
              "<table border=\"1\" class=\"dataframe\">\n",
              "  <thead>\n",
              "    <tr style=\"text-align: right;\">\n",
              "      <th></th>\n",
              "      <th>URL_ID</th>\n",
              "      <th>URL</th>\n",
              "    </tr>\n",
              "  </thead>\n",
              "  <tbody>\n",
              "    <tr>\n",
              "      <th>0</th>\n",
              "      <td>1</td>\n",
              "      <td>https://insights.blackcoffer.com/how-is-login-...</td>\n",
              "    </tr>\n",
              "    <tr>\n",
              "      <th>1</th>\n",
              "      <td>2</td>\n",
              "      <td>https://insights.blackcoffer.com/how-does-ai-h...</td>\n",
              "    </tr>\n",
              "    <tr>\n",
              "      <th>2</th>\n",
              "      <td>3</td>\n",
              "      <td>https://insights.blackcoffer.com/ai-and-its-im...</td>\n",
              "    </tr>\n",
              "    <tr>\n",
              "      <th>3</th>\n",
              "      <td>4</td>\n",
              "      <td>https://insights.blackcoffer.com/how-do-deep-l...</td>\n",
              "    </tr>\n",
              "    <tr>\n",
              "      <th>4</th>\n",
              "      <td>5</td>\n",
              "      <td>https://insights.blackcoffer.com/how-artificia...</td>\n",
              "    </tr>\n",
              "    <tr>\n",
              "      <th>5</th>\n",
              "      <td>6</td>\n",
              "      <td>https://insights.blackcoffer.com/how-are-genet...</td>\n",
              "    </tr>\n",
              "    <tr>\n",
              "      <th>6</th>\n",
              "      <td>7</td>\n",
              "      <td>https://insights.blackcoffer.com/how-is-ai-use...</td>\n",
              "    </tr>\n",
              "    <tr>\n",
              "      <th>7</th>\n",
              "      <td>8</td>\n",
              "      <td>https://insights.blackcoffer.com/benefits-of-b...</td>\n",
              "    </tr>\n",
              "    <tr>\n",
              "      <th>8</th>\n",
              "      <td>9</td>\n",
              "      <td>https://insights.blackcoffer.com/how-big-data-...</td>\n",
              "    </tr>\n",
              "    <tr>\n",
              "      <th>9</th>\n",
              "      <td>10</td>\n",
              "      <td>https://insights.blackcoffer.com/how-will-ai-m...</td>\n",
              "    </tr>\n",
              "  </tbody>\n",
              "</table>\n",
              "</div>"
            ],
            "text/plain": [
              "   URL_ID                                                URL\n",
              "0       1  https://insights.blackcoffer.com/how-is-login-...\n",
              "1       2  https://insights.blackcoffer.com/how-does-ai-h...\n",
              "2       3  https://insights.blackcoffer.com/ai-and-its-im...\n",
              "3       4  https://insights.blackcoffer.com/how-do-deep-l...\n",
              "4       5  https://insights.blackcoffer.com/how-artificia...\n",
              "5       6  https://insights.blackcoffer.com/how-are-genet...\n",
              "6       7  https://insights.blackcoffer.com/how-is-ai-use...\n",
              "7       8  https://insights.blackcoffer.com/benefits-of-b...\n",
              "8       9  https://insights.blackcoffer.com/how-big-data-...\n",
              "9      10  https://insights.blackcoffer.com/how-will-ai-m..."
            ]
          },
          "execution_count": 2,
          "metadata": {},
          "output_type": "execute_result"
        }
      ],
      "source": [
        "#lets import input data\n",
        "df = pd.read_csv(r\"Input.xlsx - Sheet1.csv\")\n",
        "df.head(10)"
      ]
    },
    {
      "cell_type": "code",
      "execution_count": null,
      "id": "042e9f50",
      "metadata": {
        "id": "042e9f50",
        "outputId": "388cc8c7-0cb4-4a5d-dfaa-a19b4d1deb6d"
      },
      "outputs": [
        {
          "name": "stdout",
          "output_type": "stream",
          "text": [
            "Shape of the input data : (170, 2)\n"
          ]
        }
      ],
      "source": [
        "#lets check the shape of our data \n",
        "print(\"Shape of the input data :\", df.shape)"
      ]
    },
    {
      "cell_type": "markdown",
      "id": "ec486af7",
      "metadata": {
        "id": "ec486af7"
      },
      "source": [
        "Great! we are having arround 170 urls to fetch the text from them."
      ]
    },
    {
      "cell_type": "code",
      "execution_count": null,
      "id": "659fec12",
      "metadata": {
        "id": "659fec12"
      },
      "outputs": [],
      "source": [
        "#Lets define our web-driver to brows the data\n",
        "driver = webdriver.Chrome(r\"C:\\Users\\ABHINANDAN\\Desktop\\chromedriver.exe\")"
      ]
    },
    {
      "cell_type": "code",
      "execution_count": null,
      "id": "7b420f3d",
      "metadata": {
        "id": "7b420f3d"
      },
      "outputs": [],
      "source": [
        "#lets define a function to fetch Article title and text\n",
        "def text_extracter(url):\n",
        "    #getting article page\n",
        "    driver.get(url)\n",
        "    time.sleep(2)\n",
        "    title = driver.find_element_by_xpath(\"//h1[@class='entry-title']\")  #finding article title\n",
        "    article_title.append(title.text)\n",
        "    \n",
        "    #getting the article text\n",
        "    txt = driver.find_element_by_xpath(\"//div[@class='td-post-content']\")\n",
        "    article_text.append(txt.text.replace('\\n',' '))"
      ]
    },
    {
      "cell_type": "code",
      "execution_count": null,
      "id": "acfdcb3c",
      "metadata": {
        "id": "acfdcb3c",
        "outputId": "99e9fdbc-2d90-4a9e-9184-bff3434f2261"
      },
      "outputs": [
        {
          "name": "stdout",
          "output_type": "stream",
          "text": [
            "170 170\n"
          ]
        }
      ],
      "source": [
        "#lets extract the text from every link in our data set\n",
        "article_title=[]\n",
        "article_text=[]\n",
        "for url in df.URL:\n",
        "    text_extracter(url)\n",
        "    \n",
        "#lets print the length to confirm\n",
        "print(len(article_title),len(article_text))"
      ]
    },
    {
      "cell_type": "code",
      "execution_count": null,
      "id": "9131836d",
      "metadata": {
        "id": "9131836d"
      },
      "outputs": [],
      "source": [
        "df[\"Article_Title\"]=article_title\n",
        "df[\"Article_Text\"] = article_text"
      ]
    },
    {
      "cell_type": "code",
      "execution_count": null,
      "id": "0c2c8c43",
      "metadata": {
        "id": "0c2c8c43",
        "outputId": "6562a313-8497-4efe-9a10-a9f128bf5b7e"
      },
      "outputs": [
        {
          "data": {
            "text/html": [
              "<div>\n",
              "<style scoped>\n",
              "    .dataframe tbody tr th:only-of-type {\n",
              "        vertical-align: middle;\n",
              "    }\n",
              "\n",
              "    .dataframe tbody tr th {\n",
              "        vertical-align: top;\n",
              "    }\n",
              "\n",
              "    .dataframe thead th {\n",
              "        text-align: right;\n",
              "    }\n",
              "</style>\n",
              "<table border=\"1\" class=\"dataframe\">\n",
              "  <thead>\n",
              "    <tr style=\"text-align: right;\">\n",
              "      <th></th>\n",
              "      <th>URL_ID</th>\n",
              "      <th>URL</th>\n",
              "      <th>Article_Title</th>\n",
              "      <th>Article_Text</th>\n",
              "    </tr>\n",
              "  </thead>\n",
              "  <tbody>\n",
              "    <tr>\n",
              "      <th>0</th>\n",
              "      <td>1</td>\n",
              "      <td>https://insights.blackcoffer.com/how-is-login-...</td>\n",
              "      <td>How is Login Logout Time Tracking for Employee...</td>\n",
              "      <td>When people hear AI they often think about sen...</td>\n",
              "    </tr>\n",
              "    <tr>\n",
              "      <th>1</th>\n",
              "      <td>2</td>\n",
              "      <td>https://insights.blackcoffer.com/how-does-ai-h...</td>\n",
              "      <td>How does AI help to monitor Retail Shelf watches?</td>\n",
              "      <td>With increasing computing power and more data,...</td>\n",
              "    </tr>\n",
              "    <tr>\n",
              "      <th>2</th>\n",
              "      <td>3</td>\n",
              "      <td>https://insights.blackcoffer.com/ai-and-its-im...</td>\n",
              "      <td>AI and its impact on the Fashion Industry</td>\n",
              "      <td>If you were a fan of the 90’s film Clueless ba...</td>\n",
              "    </tr>\n",
              "    <tr>\n",
              "      <th>3</th>\n",
              "      <td>4</td>\n",
              "      <td>https://insights.blackcoffer.com/how-do-deep-l...</td>\n",
              "      <td>How do deep learning models predict old and ne...</td>\n",
              "      <td>Understanding exactly how data is ingested, an...</td>\n",
              "    </tr>\n",
              "    <tr>\n",
              "      <th>4</th>\n",
              "      <td>5</td>\n",
              "      <td>https://insights.blackcoffer.com/how-artificia...</td>\n",
              "      <td>How artificial intelligence can boost your pro...</td>\n",
              "      <td>From the stone age to the modern world, from h...</td>\n",
              "    </tr>\n",
              "    <tr>\n",
              "      <th>...</th>\n",
              "      <td>...</td>\n",
              "      <td>...</td>\n",
              "      <td>...</td>\n",
              "      <td>...</td>\n",
              "    </tr>\n",
              "    <tr>\n",
              "      <th>165</th>\n",
              "      <td>167</td>\n",
              "      <td>https://insights.blackcoffer.com/role-big-data...</td>\n",
              "      <td>Role of Big Data in Academia</td>\n",
              "      <td>CAN ACADEMIA, RESEARCHERS, DECISION MAKERS AND...</td>\n",
              "    </tr>\n",
              "    <tr>\n",
              "      <th>166</th>\n",
              "      <td>168</td>\n",
              "      <td>https://insights.blackcoffer.com/sales-forecas...</td>\n",
              "      <td>Statistical Methods for Sales Forecasting in R...</td>\n",
              "      <td>Introduction Inventory planning is a fundament...</td>\n",
              "    </tr>\n",
              "    <tr>\n",
              "      <th>167</th>\n",
              "      <td>169</td>\n",
              "      <td>https://insights.blackcoffer.com/detect-data-e...</td>\n",
              "      <td>Behavior Based Chi-Square model to Detect Data...</td>\n",
              "      <td>1. The Problem Insider threat detection specif...</td>\n",
              "    </tr>\n",
              "    <tr>\n",
              "      <th>168</th>\n",
              "      <td>170</td>\n",
              "      <td>https://insights.blackcoffer.com/data-exfiltra...</td>\n",
              "      <td>What is Data Exfiltration?</td>\n",
              "      <td>If we talk in terms of our general life, Exfil...</td>\n",
              "    </tr>\n",
              "    <tr>\n",
              "      <th>169</th>\n",
              "      <td>171</td>\n",
              "      <td>https://insights.blackcoffer.com/impacts-of-co...</td>\n",
              "      <td>Impacts of COVID 19 on Food products</td>\n",
              "      <td>Some vendors (fruit and vegetable sellers) beg...</td>\n",
              "    </tr>\n",
              "  </tbody>\n",
              "</table>\n",
              "<p>170 rows × 4 columns</p>\n",
              "</div>"
            ],
            "text/plain": [
              "     URL_ID                                                URL  \\\n",
              "0         1  https://insights.blackcoffer.com/how-is-login-...   \n",
              "1         2  https://insights.blackcoffer.com/how-does-ai-h...   \n",
              "2         3  https://insights.blackcoffer.com/ai-and-its-im...   \n",
              "3         4  https://insights.blackcoffer.com/how-do-deep-l...   \n",
              "4         5  https://insights.blackcoffer.com/how-artificia...   \n",
              "..      ...                                                ...   \n",
              "165     167  https://insights.blackcoffer.com/role-big-data...   \n",
              "166     168  https://insights.blackcoffer.com/sales-forecas...   \n",
              "167     169  https://insights.blackcoffer.com/detect-data-e...   \n",
              "168     170  https://insights.blackcoffer.com/data-exfiltra...   \n",
              "169     171  https://insights.blackcoffer.com/impacts-of-co...   \n",
              "\n",
              "                                         Article_Title  \\\n",
              "0    How is Login Logout Time Tracking for Employee...   \n",
              "1    How does AI help to monitor Retail Shelf watches?   \n",
              "2            AI and its impact on the Fashion Industry   \n",
              "3    How do deep learning models predict old and ne...   \n",
              "4    How artificial intelligence can boost your pro...   \n",
              "..                                                 ...   \n",
              "165                       Role of Big Data in Academia   \n",
              "166  Statistical Methods for Sales Forecasting in R...   \n",
              "167  Behavior Based Chi-Square model to Detect Data...   \n",
              "168                         What is Data Exfiltration?   \n",
              "169               Impacts of COVID 19 on Food products   \n",
              "\n",
              "                                          Article_Text  \n",
              "0    When people hear AI they often think about sen...  \n",
              "1    With increasing computing power and more data,...  \n",
              "2    If you were a fan of the 90’s film Clueless ba...  \n",
              "3    Understanding exactly how data is ingested, an...  \n",
              "4    From the stone age to the modern world, from h...  \n",
              "..                                                 ...  \n",
              "165  CAN ACADEMIA, RESEARCHERS, DECISION MAKERS AND...  \n",
              "166  Introduction Inventory planning is a fundament...  \n",
              "167  1. The Problem Insider threat detection specif...  \n",
              "168  If we talk in terms of our general life, Exfil...  \n",
              "169  Some vendors (fruit and vegetable sellers) beg...  \n",
              "\n",
              "[170 rows x 4 columns]"
            ]
          },
          "execution_count": 11,
          "metadata": {},
          "output_type": "execute_result"
        }
      ],
      "source": [
        "df"
      ]
    },
    {
      "cell_type": "code",
      "execution_count": null,
      "id": "310e4fae",
      "metadata": {
        "id": "310e4fae"
      },
      "outputs": [],
      "source": [
        "#saving the data into csv file\n",
        "df.to_csv(r\"C:\\Users\\ABHINANDAN\\Desktop\\Blackcoffer_article.csv\")"
      ]
    },
    {
      "cell_type": "code",
      "execution_count": null,
      "id": "7a4aec79",
      "metadata": {
        "id": "7a4aec79"
      },
      "outputs": [],
      "source": []
    }
  ],
  "metadata": {
    "kernelspec": {
      "display_name": "Python 3",
      "language": "python",
      "name": "python3"
    },
    "language_info": {
      "codemirror_mode": {
        "name": "ipython",
        "version": 3
      },
      "file_extension": ".py",
      "mimetype": "text/x-python",
      "name": "python",
      "nbconvert_exporter": "python",
      "pygments_lexer": "ipython3",
      "version": "3.8.8"
    },
    "colab": {
      "provenance": []
    }
  },
  "nbformat": 4,
  "nbformat_minor": 5
}